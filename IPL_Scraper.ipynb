{
 "metadata": {
  "name": "",
  "signature": "sha256:8664ac6ee85c553c77ed50c1d8e81c30b16ed5e4238b59662385b719e915c1c7"
 },
 "nbformat": 3,
 "nbformat_minor": 0,
 "worksheets": [
  {
   "cells": [
    {
     "cell_type": "code",
     "collapsed": false,
     "input": [
      "import requests"
     ],
     "language": "python",
     "metadata": {},
     "outputs": [],
     "prompt_number": 1
    },
    {
     "cell_type": "code",
     "collapsed": false,
     "input": [
      "import lxml.html\n",
      "from pattern import web"
     ],
     "language": "python",
     "metadata": {},
     "outputs": [],
     "prompt_number": 10
    },
    {
     "cell_type": "code",
     "collapsed": false,
     "input": [
      "def gen_num_string(n):\n",
      "    l = [str(i+1) if i+1 > 9 else '0'+str(i+1) for i in xrange(n)]\n",
      "    return l"
     ],
     "language": "python",
     "metadata": {},
     "outputs": [],
     "prompt_number": 6
    },
    {
     "cell_type": "code",
     "collapsed": false,
     "input": [
      "l = gen_num_string(60)\n",
      "for i in l:\n",
      "    r = requests.get('http://dynamic.pulselive.com/dynamic/data/core/cricket/2012/ipl2014/ipl2014-%s/uds-meta.js'%i).text\n",
      "    with open('ipl_data_2014/%s_meta.txt'%i, 'wb') as f:\n",
      "        f.write(r)\n",
      "    r = requests.get('http://dynamic.pulselive.com/dynamic/data/core/cricket/2012/ipl2014/ipl2014-%s/uds-stats-1.js'%i).text\n",
      "    with open('ipl_data_2014/%s_scores.txt'%i, 'wb') as f:\n",
      "        f.write(r)"
     ],
     "language": "python",
     "metadata": {},
     "outputs": [
      {
       "output_type": "stream",
       "stream": "stdout",
       "text": [
        "['01', '02', '03', '04', '05', '06', '07', '08', '09', '10', '11', '12', '13', '14', '15', '16', '17', '18', '19', '20', '21', '22', '23', '24', '25', '26', '27', '28', '29', '30', '31', '32', '33', '34', '35', '36', '37', '38', '39', '40', '41', '42', '43', '44', '45', '46', '47', '48', '49', '50', '51', '52', '53', '54', '55', '56', '57', '58', '59', '60']\n"
       ]
      }
     ],
     "prompt_number": 7
    },
    {
     "cell_type": "code",
     "collapsed": false,
     "input": [
      "l = gen_num_string(76)\n",
      "for i in l:\n",
      "    r = requests.get('http://dynamic.pulselive.com/dynamic/data/core/cricket/2012/ipl2013/ipl2013-%s/uds-meta.js'%i).text\n",
      "    with open('ipl_data_2013/%s_meta.txt'%i, 'wb') as f:\n",
      "        f.write(r)\n",
      "    r = requests.get('http://dynamic.pulselive.com/dynamic/data/core/cricket/2012/ipl2013/ipl2013-%s/uds-stats-1.js'%i).text\n",
      "    with open('ipl_data_2013/%s_scores.txt'%i, 'wb') as f:\n",
      "        f.write(r)"
     ],
     "language": "python",
     "metadata": {},
     "outputs": [],
     "prompt_number": 8
    },
    {
     "cell_type": "code",
     "collapsed": false,
     "input": [
      "l = gen_num_string(76)\n",
      "for i in l:\n",
      "    r = requests.get('http://dynamic.pulselive.com/dynamic/data/core/cricket/2012/ipl2012/ipl2012-%s/uds-meta.js'%i).text\n",
      "    with open('ipl_data_2012/%s_meta.txt'%i, 'wb') as f:\n",
      "        f.write(r)\n",
      "    r = requests.get('http://dynamic.pulselive.com/dynamic/data/core/cricket/2012/ipl2012/ipl2012-%s/uds-stats-1.js'%i).text\n",
      "    with open('ipl_data_2012/%s_scores.txt'%i, 'wb') as f:\n",
      "        f.write(r)"
     ],
     "language": "python",
     "metadata": {},
     "outputs": [],
     "prompt_number": 9
    },
    {
     "cell_type": "code",
     "collapsed": false,
     "input": [
      "for year in ['2012', '2013', '2014']:\n",
      "    r = requests.get('http://dynamic.pulselive.com/dynamic/data/core/cricket/2012/ipl%s/matchSchedule2.js'%year).text[16:-2]\n",
      "    r = json.loads(r)\n",
      "    l = [{'date': i['matchDate'].split('T')[0], 'match_id': i['matchId']['name'][-2:], 'ground': i['venue']['shortName']} for i in r['schedule']]\n",
      "    pd.DataFrame(l).to_csv('game_list_%s.csv'%year)\n",
      "    print year"
     ],
     "language": "python",
     "metadata": {},
     "outputs": [
      {
       "output_type": "stream",
       "stream": "stdout",
       "text": [
        "{u'photostreamLink': u'http://iplt20.com/photos/99/ipl-2012-match-76-final', u'description': u'Final', u'matchDate': u'2012-05-27T20:00:00+0530', u'highlightsLink': u'http://www.iplt20.com/videos?mid=aa5bbd78b00d474b814ce7aa3d2cc8c3', u'reportLink': u'http://iplt20.com/news/2012/match-reports/2351/report-2012-ipl-final-kkr-v-csk', u'matchStatus': {u'text': u'Kolkata Knight Riders won by 5 wickets', u'outcome': u'A'}, u'matchId': {u'name': u'ipl2012-76', u'id': 77}, u'venue': {u'shortName': u'Chidambaram', u'country': u'India', u'fullName': u'M. A. Chidambaram Stadium', u'id': 1, u'city': u'Chennai'}, u'team1': {u'innings': [{u'inningsNumber': 2, u'runs': 192, u'maxBalls': 120, u'ballsFaced': 118, u'wkts': 5}], u'team': {u'id': 5, u'abbreviation': u'KKR', u'primaryColor': u'6F2C91', u'secondaryColor': u'FFFFFF', u'fullName': u'Kolkata Knight Riders', u'type': u'm', u'shortName': u'Knight Riders'}}, u'team2': {u'innings': [{u'inningsNumber': 1, u'runs': 190, u'maxBalls': 120, u'ballsFaced': 120, u'wkts': 3}], u'team': {u'id': 1, u'abbreviation': u'CSK', u'primaryColor': u'FDB913', u'secondaryColor': u'FFFFFF', u'fullName': u'Chennai Super Kings', u'type': u'm', u'shortName': u'Super Kings'}}, u'groupName': u'knockout', u'matchType': u'IPLT20', u'matchState': u'C'}\n",
        "{u'photostreamLink': u'http://www.iplt20.com/photos/180/ipl-2013-match-76-final', u'description': u'Final', u'matchDate': u'2013-05-26T20:00:00+0530', u'highlightsLink': u'http://www.iplt20.com/videos/media/id/c103ebc3b39e48fb868696f08d547255/m76-csk-vs-mi-match-highlights', u'reportLink': u'http://www.iplt20.com/news/2013/match-reports/4171/report-final-csk-vs-mi', u'matchStatus': {u'text': u'Mumbai Indians won by 23 runs', u'outcome': u'B'}, u'matchId': {u'name': u'ipl2013-76', u'id': 692}, u'venue': {u'shortName': u'Eden Gardens', u'country': u'India', u'fullName': u'Eden Gardens', u'id': 2, u'city': u'Kolkata'}, u'team1': {u'innings': [{u'inningsNumber': 2, u'runs': 125, u'maxBalls': 120, u'ballsFaced': 120, u'wkts': 9}], u'team': {u'id': 1, u'abbreviation': u'CSK', u'primaryColor': u'FDB913', u'secondaryColor': u'FFFFFF', u'fullName': u'Chennai Super Kings', u'type': u'm', u'shortName': u'Super Kings'}}, u'team2': {u'innings': [{u'inningsNumber': 1, u'runs': 148, u'maxBalls': 120, u'ballsFaced': 120, u'wkts': 9}], u'team': {u'id': 6, u'abbreviation': u'MI', u'primaryColor': u'00AEEF', u'secondaryColor': u'FFFFFF', u'fullName': u'Mumbai Indians', u'type': u'm', u'shortName': u'Mumbai'}}, u'groupName': u'Playoffs', u'matchType': u'IPLT20', u'matchState': u'C'}"
       ]
      },
      {
       "output_type": "stream",
       "stream": "stdout",
       "text": [
        "\n",
        "{u'photostreamLink': u'http://www.iplt20.com/photos/247/ipl-2014-match-60-kkr-v-kxip', u'description': u'Final', u'matchDate': u'2014-06-01T20:00:00+0530', u'highlightsLink': u'http://www.iplt20.com/videos/media/id/73bb21b313564847ba722311a93b7146/m60-kkr-vs-kxip-match-highlights', u'reportLink': u'http://www.iplt20.com/news/2014/match-reports/5540/report-final-kkr-v-kxip', u'matchStatus': {u'text': u'Kolkata Knight Riders won by 3 wickets', u'outcome': u'B'}, u'matchId': {u'name': u'ipl2014-60', u'id': 2483}, u'venue': {u'shortName': u'Chinnaswamy', u'country': u'India', u'fullName': u'M. Chinnaswamy Stadium', u'id': 5, u'city': u'Bengaluru'}, u'team1': {u'innings': [{u'inningsNumber': 1, u'runs': 199, u'maxBalls': 120, u'ballsFaced': 120, u'wkts': 4}], u'team': {u'id': 4, u'abbreviation': u'KXIP', u'primaryColor': u'DA1F3D', u'secondaryColor': u'FFFFFF', u'fullName': u'Kings XI Punjab', u'type': u'm', u'shortName': u'Kings XI'}}, u'team2': {u'innings': [{u'inningsNumber': 2, u'runs': 200, u'maxBalls': 120, u'ballsFaced': 117, u'wkts': 7}], u'team': {u'id': 5, u'abbreviation': u'KKR', u'primaryColor': u'6F2C91', u'secondaryColor': u'FFFFFF', u'fullName': u'Kolkata Knight Riders', u'type': u'm', u'shortName': u'Knight Riders'}}, u'groupName': u'Playoffs', u'matchType': u'IPLT20', u'matchState': u'C'}"
       ]
      },
      {
       "output_type": "stream",
       "stream": "stdout",
       "text": [
        "\n"
       ]
      }
     ],
     "prompt_number": 73
    },
    {
     "cell_type": "code",
     "collapsed": false,
     "input": [],
     "language": "python",
     "metadata": {},
     "outputs": []
    }
   ],
   "metadata": {}
  }
 ]
}