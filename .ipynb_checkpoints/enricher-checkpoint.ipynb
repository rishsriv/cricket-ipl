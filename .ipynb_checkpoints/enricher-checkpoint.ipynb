{
 "metadata": {
  "name": "",
  "signature": "sha256:7dd2c2b92fe0260b82d9b5726d0e5a93f05dcfcec8dd34a18bf9b31b7dde20ab"
 },
 "nbformat": 3,
 "nbformat_minor": 0,
 "worksheets": [
  {
   "cells": [
    {
     "cell_type": "code",
     "collapsed": false,
     "input": [
      "import pandas as pd\n",
      "import numpy as np"
     ],
     "language": "python",
     "metadata": {},
     "outputs": [],
     "prompt_number": 2
    },
    {
     "cell_type": "code",
     "collapsed": false,
     "input": [
      "df = pd.read_csv('game_list_2014.csv', index_col = 0, dtype={'match_id': object})"
     ],
     "language": "python",
     "metadata": {},
     "outputs": [],
     "prompt_number": 3
    },
    {
     "cell_type": "code",
     "collapsed": false,
     "input": [
      "matches = df.match_id.values\n",
      "grounds = df.ground.values\n",
      "dates = df.date.values"
     ],
     "language": "python",
     "metadata": {},
     "outputs": [],
     "prompt_number": 4
    },
    {
     "cell_type": "code",
     "collapsed": false,
     "input": [
      "df = pd.DataFrame()\n",
      "for i in xrange(len(matches)):\n",
      "    match = matches[i]\n",
      "    ground = grounds[i]\n",
      "    date = dates[i]\n",
      "    df2 = pd.read_csv('ipl_2014_cleaned/%s.csv'%match)\n",
      "    df2['match_id'] = match\n",
      "    df2['ground'] = ground\n",
      "    df2['date'] = date\n",
      "    df = df.append(df2)"
     ],
     "language": "python",
     "metadata": {},
     "outputs": [],
     "prompt_number": 5
    },
    {
     "cell_type": "code",
     "collapsed": false,
     "input": [
      "df.drop(['ovr_ball_num', 'batsman_id', 'non_striker_id', 'bowler_id', 'player_out_id', 'game_end_time'], axis=1, inplace=True)"
     ],
     "language": "python",
     "metadata": {},
     "outputs": [],
     "prompt_number": 6
    },
    {
     "cell_type": "code",
     "collapsed": false,
     "input": [
      "def get_batter_age(s):\n",
      "    if s['batsman_name'] == 'Rahul Shukla': return '1990-08-28'\n",
      "    elif s['batsman_name'] == 'Aditya Tare': return '1987-11-07'\n",
      "    elif s['batsman_name'] == 'Pragyan Ojha': return '1986-09-05'\n",
      "    elif s['batsman_name'] == 'Yuzvendra Chahal': return '1990-07-23'\n",
      "    elif s['batsman_name'] == 'Pawan Suyal': return '1989-11-10'\n",
      "    else: return s['batsman_dob']"
     ],
     "language": "python",
     "metadata": {},
     "outputs": [],
     "prompt_number": 7
    },
    {
     "cell_type": "code",
     "collapsed": false,
     "input": [
      "def get_nonstriker_age(s):\n",
      "    if s['non_striker_name'] == 'Rahul Shukla': return '1990-08-28'\n",
      "    elif s['non_striker_name'] == 'Aditya Tare': return '1987-11-07'\n",
      "    elif s['non_striker_name'] == 'Pragyan Ojha': return '1986-09-05'\n",
      "    elif s['non_striker_name'] == 'Yuzvendra Chahal': return '1990-07-23'\n",
      "    elif s['non_striker_name'] == 'Pawan Suyal': return '1989-11-10'\n",
      "    else: return s['non_striker_dob']"
     ],
     "language": "python",
     "metadata": {},
     "outputs": [],
     "prompt_number": 8
    },
    {
     "cell_type": "code",
     "collapsed": false,
     "input": [
      "def get_bowler_age(s):\n",
      "    if s['bowler_name'] == 'Rahul Shukla': return '1990-08-28'\n",
      "    elif s['bowler_name'] == 'Aditya Tare': return '1987-11-07'\n",
      "    elif s['bowler_name'] == 'Pragyan Ojha': return '1986-09-05'\n",
      "    elif s['bowler_name'] == 'Yuzvendra Chahal': return '1990-07-23'\n",
      "    elif s['bowler_name'] == 'Pawan Suyal': return '1989-11-10'\n",
      "    else: return s['bowler_dob']"
     ],
     "language": "python",
     "metadata": {},
     "outputs": [],
     "prompt_number": 9
    },
    {
     "cell_type": "code",
     "collapsed": false,
     "input": [
      "df['batsman_dob'] = df.apply(get_batter_age, axis=1)\n",
      "df['non_striker_dob'] = df.apply(get_nonstriker_age, axis=1)\n",
      "df['bowler_dob'] = df.apply(get_bowler_age, axis=1)\n",
      "df['batsman_dob'] = pd.to_datetime(df['batsman_dob'], format=\"%Y-%m-%d\")\n",
      "df['non_striker_dob'] = pd.to_datetime(df['non_striker_dob'], format=\"%Y-%m-%d\")\n",
      "df['bowler_dob'] = pd.to_datetime(df['bowler_dob'], format=\"%Y-%m-%d\")\n",
      "df['date'] = pd.to_datetime(df['date'], format=\"%Y-%m-%d\")"
     ],
     "language": "python",
     "metadata": {},
     "outputs": [],
     "prompt_number": 10
    },
    {
     "cell_type": "code",
     "collapsed": false,
     "input": [
      "df['batsman_age'] = (df['date'] - df['batsman_dob']).dt.days/365\n",
      "df['non_striker_age'] = (df['date'] - df['non_striker_dob']).dt.days/365\n",
      "df['bowler_age'] = (df['date'] - df['bowler_dob']).dt.days/365"
     ],
     "language": "python",
     "metadata": {},
     "outputs": [],
     "prompt_number": 11
    },
    {
     "cell_type": "code",
     "collapsed": false,
     "input": [
      "df.drop(['batsman_dob', 'non_striker_dob', 'bowler_dob'], axis=1, inplace=True)"
     ],
     "language": "python",
     "metadata": {},
     "outputs": [],
     "prompt_number": 12
    },
    {
     "cell_type": "code",
     "collapsed": false,
     "input": [
      "df['ball_speed'][df.ball_speed < 0] = np.nan"
     ],
     "language": "python",
     "metadata": {},
     "outputs": [
      {
       "output_type": "stream",
       "stream": "stderr",
       "text": [
        "-c:1: SettingWithCopyWarning: \n",
        "A value is trying to be set on a copy of a slice from a DataFrame\n",
        "\n",
        "See the the caveats in the documentation: http://pandas.pydata.org/pandas-docs/stable/indexing.html#indexing-view-versus-copy\n"
       ]
      }
     ],
     "prompt_number": 13
    },
    {
     "cell_type": "code",
     "collapsed": false,
     "input": [
      "df['landed_y'][df.landed_y > 50] = np.nan\n",
      "df['landed_x'][df.landed_x > 3] = np.nan\n",
      "df['ended_x'][df.ended_x > 3] = np.nan\n",
      "df.loc[(df.hit_x == 5) & (df.hit_y == 5), ['hit_x', 'hit_y']] = np.nan\n",
      "df.loc[(df.hit_x == 0) & (df.hit_y == 0), ['hit_x', 'hit_y']] = np.nan\n",
      "df.bat_right_handed = df.bat_right_handed == 'y'\n",
      "df['ended_x'][df.bat_right_handed == False] = -1*df['ended_x']\n",
      "df['landed_x'][df.bat_right_handed == False] = -1*df['landed_x']\n",
      "df['dummy_ball'] = (~((df.extras_type == 'Wd') | (df.extras_type == 'Nb') | (df.extras_type == 'NbLb'))).astype(int)\n",
      "df['dot_ball'] = df['runs_w_extras'] == 0\n",
      "df['single'] = df['runs_batter'] == 1\n",
      "df['double'] = df['runs_batter'] == 2\n",
      "df['triple'] = df['runs_batter'] == 3\n",
      "df['four'] = (df['runs_batter'] == 4) | (df['runs_batter'] == 5)\n",
      "df['six'] = df['runs_batter'] == 6\n",
      "df['dismissal_method'][df.dismissal_method == 'other'] = 'lbw'\n",
      "df['ball_speed'] = 3.60274248*df['ball_speed'] - 0.11928085\n",
      "df['wicket'] = df['dismissal_method'].notnull().astype(int)\n",
      "df['bowler_wicket'] = (df['dismissal_method'].notnull()) & (df.dismissal_method != 'run out')"
     ],
     "language": "python",
     "metadata": {},
     "outputs": [
      {
       "output_type": "stream",
       "stream": "stderr",
       "text": [
        "-c:2: SettingWithCopyWarning: \n",
        "A value is trying to be set on a copy of a slice from a DataFrame\n",
        "\n",
        "See the the caveats in the documentation: http://pandas.pydata.org/pandas-docs/stable/indexing.html#indexing-view-versus-copy\n",
        "-c:3: SettingWithCopyWarning: \n",
        "A value is trying to be set on a copy of a slice from a DataFrame\n",
        "\n",
        "See the the caveats in the documentation: http://pandas.pydata.org/pandas-docs/stable/indexing.html#indexing-view-versus-copy\n",
        "-c:7: SettingWithCopyWarning: \n",
        "A value is trying to be set on a copy of a slice from a DataFrame\n",
        "\n",
        "See the the caveats in the documentation: http://pandas.pydata.org/pandas-docs/stable/indexing.html#indexing-view-versus-copy\n"
       ]
      },
      {
       "output_type": "stream",
       "stream": "stderr",
       "text": [
        "-c:8: SettingWithCopyWarning: \n",
        "A value is trying to be set on a copy of a slice from a DataFrame\n",
        "\n",
        "See the the caveats in the documentation: http://pandas.pydata.org/pandas-docs/stable/indexing.html#indexing-view-versus-copy\n",
        "-c:16: SettingWithCopyWarning: \n",
        "A value is trying to be set on a copy of a slice from a DataFrame\n",
        "\n",
        "See the the caveats in the documentation: http://pandas.pydata.org/pandas-docs/stable/indexing.html#indexing-view-versus-copy\n"
       ]
      }
     ],
     "prompt_number": 14
    },
    {
     "cell_type": "code",
     "collapsed": false,
     "input": [
      "pd.set_option('max_columns', 40)"
     ],
     "language": "python",
     "metadata": {},
     "outputs": [],
     "prompt_number": 15
    },
    {
     "cell_type": "code",
     "collapsed": false,
     "input": [
      "matches"
     ],
     "language": "python",
     "metadata": {},
     "outputs": [
      {
       "metadata": {},
       "output_type": "pyout",
       "prompt_number": 24,
       "text": [
        "array(['01', '02', '03', '04', '05', '06', '07', '08', '09', '10', '11',\n",
        "       '12', '13', '14', '15', '16', '17', '18', '19', '20', '21', '22',\n",
        "       '23', '24', '25', '26', '27', '28', '29', '30', '31', '32', '33',\n",
        "       '34', '35', '36', '37', '38', '39', '40', '41', '42', '43', '44',\n",
        "       '45', '46', '47', '48', '49', '50', '51', '52', '53', '54', '55',\n",
        "       '56', '57', '58', '59', '60'], dtype=object)"
       ]
      }
     ],
     "prompt_number": 24
    },
    {
     "cell_type": "code",
     "collapsed": false,
     "input": [
      "for match in matches:\n",
      "    df2 = df[df.match_id == match]\n",
      "\n",
      "    t1_total = df2[df2.inning == 1]['runs_w_extras'].sum()\n",
      "    df2['target'] = np.nan\n",
      "    df2.loc[df2.inning == 2, ['target']] = t1_total\n",
      "\n",
      "    df2['cumul_runs'] = np.nan\n",
      "    t1_cumul_runs = df2[df2.inning == 1]['runs_w_extras'].cumsum()\n",
      "    t2_cumul_runs = df2[df2.inning == 2]['runs_w_extras'].cumsum()\n",
      "    df2.loc[df2.inning == 1, ['cumul_runs']] = t1_cumul_runs\n",
      "    df2.loc[df2.inning == 2, ['cumul_runs']] = t2_cumul_runs\n",
      "\n",
      "    df2['cumul_balls'] = np.nan\n",
      "    t1_cumul_balls = df2[df2.inning == 1]['dummy_ball'].cumsum()\n",
      "    t2_cumul_balls = df2[df2.inning == 2]['dummy_ball'].cumsum()\n",
      "    df2.loc[df2.inning == 1, ['cumul_balls']] = t1_cumul_balls\n",
      "    df2.loc[df2.inning == 2, ['cumul_balls']] = t2_cumul_balls\n",
      "\n",
      "    df2['cumul_wickets'] = np.nan\n",
      "    t1_cumul_wickets = df2[df2.inning == 1]['wicket'].cumsum()\n",
      "    t2_cumul_wickets = df2[df2.inning == 2]['wicket'].cumsum()\n",
      "    df2.loc[df2.inning == 1, ['cumul_wickets']] = t1_cumul_wickets\n",
      "    df2.loc[df2.inning == 2, ['cumul_wickets']] = t2_cumul_wickets\n",
      "    \n",
      "    df2.to_csv('ipl_2014_cleaned/%s.csv'%match)\n",
      "    print match"
     ],
     "language": "python",
     "metadata": {},
     "outputs": [
      {
       "output_type": "stream",
       "stream": "stderr",
       "text": [
        "-c:5: SettingWithCopyWarning: \n",
        "A value is trying to be set on a copy of a slice from a DataFrame.\n",
        "Try using .loc[row_indexer,col_indexer] = value instead\n",
        "\n",
        "See the the caveats in the documentation: http://pandas.pydata.org/pandas-docs/stable/indexing.html#indexing-view-versus-copy\n",
        "-c:8: SettingWithCopyWarning: \n",
        "A value is trying to be set on a copy of a slice from a DataFrame.\n",
        "Try using .loc[row_indexer,col_indexer] = value instead\n",
        "\n",
        "See the the caveats in the documentation: http://pandas.pydata.org/pandas-docs/stable/indexing.html#indexing-view-versus-copy\n"
       ]
      },
      {
       "output_type": "stream",
       "stream": "stderr",
       "text": [
        "-c:14: SettingWithCopyWarning: \n",
        "A value is trying to be set on a copy of a slice from a DataFrame.\n",
        "Try using .loc[row_indexer,col_indexer] = value instead\n",
        "\n",
        "See the the caveats in the documentation: http://pandas.pydata.org/pandas-docs/stable/indexing.html#indexing-view-versus-copy\n",
        "-c:20: SettingWithCopyWarning: \n",
        "A value is trying to be set on a copy of a slice from a DataFrame.\n",
        "Try using .loc[row_indexer,col_indexer] = value instead\n",
        "\n",
        "See the the caveats in the documentation: http://pandas.pydata.org/pandas-docs/stable/indexing.html#indexing-view-versus-copy\n"
       ]
      },
      {
       "output_type": "stream",
       "stream": "stdout",
       "text": [
        "01\n",
        "02"
       ]
      },
      {
       "output_type": "stream",
       "stream": "stdout",
       "text": [
        "\n",
        "03"
       ]
      },
      {
       "output_type": "stream",
       "stream": "stdout",
       "text": [
        "\n",
        "04"
       ]
      },
      {
       "output_type": "stream",
       "stream": "stdout",
       "text": [
        "\n",
        "05"
       ]
      },
      {
       "output_type": "stream",
       "stream": "stdout",
       "text": [
        "\n",
        "06"
       ]
      },
      {
       "output_type": "stream",
       "stream": "stdout",
       "text": [
        "\n",
        "07"
       ]
      },
      {
       "output_type": "stream",
       "stream": "stdout",
       "text": [
        "\n",
        "08"
       ]
      },
      {
       "output_type": "stream",
       "stream": "stdout",
       "text": [
        "\n",
        "09"
       ]
      },
      {
       "output_type": "stream",
       "stream": "stdout",
       "text": [
        "\n",
        "10"
       ]
      },
      {
       "output_type": "stream",
       "stream": "stdout",
       "text": [
        "\n",
        "11"
       ]
      },
      {
       "output_type": "stream",
       "stream": "stdout",
       "text": [
        "\n",
        "12"
       ]
      },
      {
       "output_type": "stream",
       "stream": "stdout",
       "text": [
        "\n",
        "13"
       ]
      },
      {
       "output_type": "stream",
       "stream": "stdout",
       "text": [
        "\n",
        "14"
       ]
      },
      {
       "output_type": "stream",
       "stream": "stdout",
       "text": [
        "\n",
        "15"
       ]
      },
      {
       "output_type": "stream",
       "stream": "stdout",
       "text": [
        "\n",
        "16"
       ]
      },
      {
       "output_type": "stream",
       "stream": "stdout",
       "text": [
        "\n",
        "17"
       ]
      },
      {
       "output_type": "stream",
       "stream": "stdout",
       "text": [
        "\n",
        "18"
       ]
      },
      {
       "output_type": "stream",
       "stream": "stdout",
       "text": [
        "\n",
        "19"
       ]
      },
      {
       "output_type": "stream",
       "stream": "stdout",
       "text": [
        "\n",
        "20"
       ]
      },
      {
       "output_type": "stream",
       "stream": "stdout",
       "text": [
        "\n",
        "21"
       ]
      },
      {
       "output_type": "stream",
       "stream": "stdout",
       "text": [
        "\n",
        "22"
       ]
      },
      {
       "output_type": "stream",
       "stream": "stdout",
       "text": [
        "\n",
        "23"
       ]
      },
      {
       "output_type": "stream",
       "stream": "stdout",
       "text": [
        "\n",
        "24"
       ]
      },
      {
       "output_type": "stream",
       "stream": "stdout",
       "text": [
        "\n",
        "25"
       ]
      },
      {
       "output_type": "stream",
       "stream": "stdout",
       "text": [
        "\n",
        "26"
       ]
      },
      {
       "output_type": "stream",
       "stream": "stdout",
       "text": [
        "\n",
        "27"
       ]
      },
      {
       "output_type": "stream",
       "stream": "stdout",
       "text": [
        "\n",
        "28"
       ]
      },
      {
       "output_type": "stream",
       "stream": "stdout",
       "text": [
        "\n",
        "29"
       ]
      },
      {
       "output_type": "stream",
       "stream": "stdout",
       "text": [
        "\n",
        "30"
       ]
      },
      {
       "output_type": "stream",
       "stream": "stdout",
       "text": [
        "\n",
        "31"
       ]
      },
      {
       "output_type": "stream",
       "stream": "stdout",
       "text": [
        "\n",
        "32"
       ]
      },
      {
       "output_type": "stream",
       "stream": "stdout",
       "text": [
        "\n",
        "33"
       ]
      },
      {
       "output_type": "stream",
       "stream": "stdout",
       "text": [
        "\n",
        "34"
       ]
      },
      {
       "output_type": "stream",
       "stream": "stdout",
       "text": [
        "\n",
        "35"
       ]
      },
      {
       "output_type": "stream",
       "stream": "stdout",
       "text": [
        "\n",
        "36"
       ]
      },
      {
       "output_type": "stream",
       "stream": "stdout",
       "text": [
        "\n",
        "37"
       ]
      },
      {
       "output_type": "stream",
       "stream": "stdout",
       "text": [
        "\n",
        "38"
       ]
      },
      {
       "output_type": "stream",
       "stream": "stdout",
       "text": [
        "\n",
        "39"
       ]
      },
      {
       "output_type": "stream",
       "stream": "stdout",
       "text": [
        "\n",
        "40"
       ]
      },
      {
       "output_type": "stream",
       "stream": "stdout",
       "text": [
        "\n",
        "41"
       ]
      },
      {
       "output_type": "stream",
       "stream": "stdout",
       "text": [
        "\n",
        "42"
       ]
      },
      {
       "output_type": "stream",
       "stream": "stdout",
       "text": [
        "\n",
        "43"
       ]
      },
      {
       "output_type": "stream",
       "stream": "stdout",
       "text": [
        "\n",
        "44"
       ]
      },
      {
       "output_type": "stream",
       "stream": "stdout",
       "text": [
        "\n",
        "45"
       ]
      },
      {
       "output_type": "stream",
       "stream": "stdout",
       "text": [
        "\n",
        "46"
       ]
      },
      {
       "output_type": "stream",
       "stream": "stdout",
       "text": [
        "\n",
        "47"
       ]
      },
      {
       "output_type": "stream",
       "stream": "stdout",
       "text": [
        "\n",
        "48"
       ]
      },
      {
       "output_type": "stream",
       "stream": "stdout",
       "text": [
        "\n",
        "49"
       ]
      },
      {
       "output_type": "stream",
       "stream": "stdout",
       "text": [
        "\n",
        "50"
       ]
      },
      {
       "output_type": "stream",
       "stream": "stdout",
       "text": [
        "\n",
        "51"
       ]
      },
      {
       "output_type": "stream",
       "stream": "stdout",
       "text": [
        "\n",
        "52"
       ]
      },
      {
       "output_type": "stream",
       "stream": "stdout",
       "text": [
        "\n",
        "53"
       ]
      },
      {
       "output_type": "stream",
       "stream": "stdout",
       "text": [
        "\n",
        "54"
       ]
      },
      {
       "output_type": "stream",
       "stream": "stdout",
       "text": [
        "\n",
        "55"
       ]
      },
      {
       "output_type": "stream",
       "stream": "stdout",
       "text": [
        "\n",
        "56"
       ]
      },
      {
       "output_type": "stream",
       "stream": "stdout",
       "text": [
        "\n",
        "57"
       ]
      },
      {
       "output_type": "stream",
       "stream": "stdout",
       "text": [
        "\n",
        "58"
       ]
      },
      {
       "output_type": "stream",
       "stream": "stdout",
       "text": [
        "\n",
        "59"
       ]
      },
      {
       "output_type": "stream",
       "stream": "stdout",
       "text": [
        "\n",
        "60"
       ]
      },
      {
       "output_type": "stream",
       "stream": "stdout",
       "text": [
        "\n"
       ]
      }
     ],
     "prompt_number": 25
    },
    {
     "cell_type": "code",
     "collapsed": false,
     "input": [],
     "language": "python",
     "metadata": {},
     "outputs": []
    }
   ],
   "metadata": {}
  }
 ]
}