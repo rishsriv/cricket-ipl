{
 "metadata": {
  "name": "",
  "signature": "sha256:93db439167a2a712c7a9d219e0cec8bae92391afb5c4ba548cf3feee9eb0659e"
 },
 "nbformat": 3,
 "nbformat_minor": 0,
 "worksheets": [
  {
   "cells": [
    {
     "cell_type": "code",
     "collapsed": false,
     "input": [
      "import pandas as pd\n",
      "import numpy as np\n",
      "import json\n",
      "import datetime"
     ],
     "language": "python",
     "metadata": {},
     "outputs": [],
     "prompt_number": 1
    },
    {
     "cell_type": "code",
     "collapsed": false,
     "input": [
      "match_ids = [str(i+1) if i+1 > 9 else '0'+str(i+1) for i in xrange(60)]\n",
      "\n",
      "for match_id in match_ids:\n",
      "    print match_id\n",
      "    try:\n",
      "        with open('ipl_data_2014/%s_meta.txt'%match_id, 'r') as f:\n",
      "            s = f.read()[10:-2]\n",
      "            game_det = json.loads(s)\n",
      "\n",
      "        player_details = {}\n",
      "        inning_1_team = game_det['battingOrder'][0]\n",
      "        inning_2_team = game_det['battingOrder'][1]\n",
      "\n",
      "        game_end_time = datetime.datetime.fromtimestamp(game_det['lastUpdated'][0] / 1e3)\n",
      "\n",
      "        inning_1_team_abbr = game_det['teams'][inning_1_team]['team']['abbreviation']\n",
      "        inning_2_team_abbr = game_det['teams'][inning_2_team]['team']['abbreviation']\n",
      "\n",
      "        keepers = game_det['teams'][inning_1_team]['wicketKeeper']['names'] + game_det['teams'][inning_2_team]['wicketKeeper']['names']\n",
      "        for player in game_det['teams'][inning_1_team]['players']:\n",
      "            player_details[player['id']] = {'name': player['fullName'], 'nationality': player['nationality'], \n",
      "                                            'dob': datetime.datetime.fromtimestamp(player['dateOfBirth'] / 1e3).date()}\n",
      "\n",
      "        for player in game_det['teams'][inning_2_team]['players']:\n",
      "            player_details[player['id']] = {'name': player['fullName'], 'nationality': player['nationality'], \n",
      "                                            'dob': datetime.datetime.fromtimestamp(player['dateOfBirth'] / 1e3).date()}\n",
      "\n",
      "        with open('ipl_data_2014/%s_scores.txt'%match_id, 'r') as f:\n",
      "            s = f.read()[11:-2]\n",
      "            ball_det = json.loads(s)\n",
      "        ball_dets = []\n",
      "        for ball in ball_det['data']:\n",
      "            ovr = ball.keys()[0]\n",
      "            det = ball[ovr].split(',')\n",
      "            ball_dets.append({'ovr': ovr, 'ovr_ball_num': det[0], 'batsman_id': det[1], 'non_striker_id': det[2], 'bowler_id': det[3],\n",
      "                   'ball_speed': det[4], 'player_out_id': det[5], 'player_out_how': det[6], 'runs_w_extras': det[7],\n",
      "                   'runs_batter': det[8], 'extras_type': det[10], 'bat_right_handed': det[11], 'landed_y': det[12],\n",
      "                   'landed_x': det[13], 'ended_x': det[14], 'ended_y': det[15], 'hit_x': det[16], 'hit_y': det[17]})\n",
      "        df = pd.DataFrame(ball_dets)\n",
      "\n",
      "        def get_dismissal(s):\n",
      "            if s[:2] == 'b ':\n",
      "                return 'bowled'\n",
      "            elif s[:4] == 'c & b ':\n",
      "                return 'caught and bowled'\n",
      "            elif 'c %s'%keepers[0] in s or 'c %s'%keepers[1] in s or 'c %s'%keepers[2] in s or 'c %s'%keepers[3] in s:\n",
      "                return 'caught keeper'\n",
      "            elif s[:2] == 'c ':\n",
      "                return 'caught fielder'\n",
      "            elif s[:3] == 'st ':\n",
      "                return 'stumped'\n",
      "            elif 'run out' in s:\n",
      "                return 'run out'\n",
      "            else:\n",
      "                return 'other'\n",
      "\n",
      "        def get_names(bat, non_str, bow, out, how):\n",
      "            if out != '-1':\n",
      "                return player_details[int(bat)]['name'], player_details[int(non_str)]['name'], player_details[int(bow)]['name'], player_details[int(out)]['name'], get_dismissal(how)\n",
      "            return player_details[int(bat)]['name'], player_details[int(non_str)]['name'], player_details[int(bow)]['name'], np.nan, np.nan\n",
      "\n",
      "        def get_nat(bat, non_str, bow):\n",
      "            return player_details[int(bat)]['nationality'], player_details[int(non_str)]['nationality'], player_details[int(bow)]['nationality']\n",
      "\n",
      "        def get_dob(bat, non_str, bow):\n",
      "            return player_details[int(bat)]['dob'], player_details[int(non_str)]['dob'], player_details[int(bow)]['dob']\n",
      "\n",
      "        df['batsman_name'], df['non_striker_name'], df['bowler_name'], df['player_out_name'], df['dismissal_method'] = zip(*df.apply(lambda row: get_names(row['batsman_id'], row['non_striker_id'], row['bowler_id'], row['player_out_id'], row['player_out_how']), axis=1))\n",
      "        df['batsman_nat'], df['non_striker_nat'], df['bowler_nat'] = zip(*df.apply(lambda row: get_nat(row['batsman_id'], row['non_striker_id'], row['bowler_id']), axis=1))\n",
      "        df['batsman_dob'], df['non_striker_dob'], df['bowler_dob'] = zip(*df.apply(lambda row: get_dob(row['batsman_id'], row['non_striker_id'], row['bowler_id']), axis=1))\n",
      "\n",
      "        def get_inning(s):\n",
      "            return int(s[0]), float(s[2:])\n",
      "        \n",
      "        def get_team(s):\n",
      "            if s[0] == '1': return inning_1_team_abbr, inning_2_team_abbr\n",
      "            else: return inning_2_team_abbr, inning_1_team_abbr\n",
      "        \n",
      "        df['batting_team'], df['bowling_team']  = zip(*df['ovr'].apply(get_team))\n",
      "        df['inning'], df['ovr']  = zip(*df['ovr'].apply(get_inning))\n",
      "\n",
      "        l = ['batting_team', 'bowling_team', 'inning', 'ovr', 'ovr_ball_num', 'batsman_id', 'non_striker_id', 'bowler_id', 'player_out_id', 'batsman_name', \n",
      "             'non_striker_name', 'bowler_name', 'player_out_how', 'player_out_name', 'dismissal_method', 'ball_speed', 'runs_w_extras', \n",
      "             'runs_batter', 'extras_type', 'bat_right_handed', 'landed_y', 'landed_x', 'ended_x', 'ended_y', 'hit_x', 'hit_y',\n",
      "             'batsman_nat', 'non_striker_nat', 'bowler_nat', 'batsman_dob', 'non_striker_dob', 'bowler_dob']\n",
      "        df = df[l]\n",
      "        df['match_id'] = match_id\n",
      "        df['game_end_time'] = game_end_time\n",
      "        df.to_csv('ipl_2014_cleaned/%s.csv'%match_id, index = False)\n",
      "    except Exception,e:\n",
      "        print str(e)"
     ],
     "language": "python",
     "metadata": {},
     "outputs": [
      {
       "output_type": "stream",
       "stream": "stdout",
       "text": [
        "01\n",
        "02"
       ]
      },
      {
       "output_type": "stream",
       "stream": "stdout",
       "text": [
        "\n",
        "03"
       ]
      },
      {
       "output_type": "stream",
       "stream": "stdout",
       "text": [
        "\n",
        "04"
       ]
      },
      {
       "output_type": "stream",
       "stream": "stdout",
       "text": [
        "\n",
        "05"
       ]
      },
      {
       "output_type": "stream",
       "stream": "stdout",
       "text": [
        "\n",
        "06"
       ]
      },
      {
       "output_type": "stream",
       "stream": "stdout",
       "text": [
        "\n",
        "07"
       ]
      },
      {
       "output_type": "stream",
       "stream": "stdout",
       "text": [
        "\n",
        "08"
       ]
      },
      {
       "output_type": "stream",
       "stream": "stdout",
       "text": [
        "\n",
        "09"
       ]
      },
      {
       "output_type": "stream",
       "stream": "stdout",
       "text": [
        "\n",
        "10"
       ]
      },
      {
       "output_type": "stream",
       "stream": "stdout",
       "text": [
        "\n",
        "11"
       ]
      },
      {
       "output_type": "stream",
       "stream": "stdout",
       "text": [
        "\n",
        "12"
       ]
      },
      {
       "output_type": "stream",
       "stream": "stdout",
       "text": [
        "\n",
        "13"
       ]
      },
      {
       "output_type": "stream",
       "stream": "stdout",
       "text": [
        "\n",
        "14"
       ]
      },
      {
       "output_type": "stream",
       "stream": "stdout",
       "text": [
        "\n",
        "15"
       ]
      },
      {
       "output_type": "stream",
       "stream": "stdout",
       "text": [
        "\n",
        "16"
       ]
      },
      {
       "output_type": "stream",
       "stream": "stdout",
       "text": [
        "\n",
        "17"
       ]
      },
      {
       "output_type": "stream",
       "stream": "stdout",
       "text": [
        "\n",
        "18"
       ]
      },
      {
       "output_type": "stream",
       "stream": "stdout",
       "text": [
        "\n",
        "19"
       ]
      },
      {
       "output_type": "stream",
       "stream": "stdout",
       "text": [
        "\n",
        "20"
       ]
      },
      {
       "output_type": "stream",
       "stream": "stdout",
       "text": [
        "\n",
        "21"
       ]
      },
      {
       "output_type": "stream",
       "stream": "stdout",
       "text": [
        "\n",
        "22"
       ]
      },
      {
       "output_type": "stream",
       "stream": "stdout",
       "text": [
        "\n",
        "23"
       ]
      },
      {
       "output_type": "stream",
       "stream": "stdout",
       "text": [
        "\n",
        "24"
       ]
      },
      {
       "output_type": "stream",
       "stream": "stdout",
       "text": [
        "\n",
        "25"
       ]
      },
      {
       "output_type": "stream",
       "stream": "stdout",
       "text": [
        "\n",
        "26"
       ]
      },
      {
       "output_type": "stream",
       "stream": "stdout",
       "text": [
        "\n",
        "27"
       ]
      },
      {
       "output_type": "stream",
       "stream": "stdout",
       "text": [
        "\n",
        "28"
       ]
      },
      {
       "output_type": "stream",
       "stream": "stdout",
       "text": [
        "\n",
        "29"
       ]
      },
      {
       "output_type": "stream",
       "stream": "stdout",
       "text": [
        "\n",
        "30"
       ]
      },
      {
       "output_type": "stream",
       "stream": "stdout",
       "text": [
        "\n",
        "31"
       ]
      },
      {
       "output_type": "stream",
       "stream": "stdout",
       "text": [
        "\n",
        "32"
       ]
      },
      {
       "output_type": "stream",
       "stream": "stdout",
       "text": [
        "\n",
        "33"
       ]
      },
      {
       "output_type": "stream",
       "stream": "stdout",
       "text": [
        "\n",
        "34"
       ]
      },
      {
       "output_type": "stream",
       "stream": "stdout",
       "text": [
        "\n",
        "35"
       ]
      },
      {
       "output_type": "stream",
       "stream": "stdout",
       "text": [
        "\n",
        "36"
       ]
      },
      {
       "output_type": "stream",
       "stream": "stdout",
       "text": [
        "\n",
        "37"
       ]
      },
      {
       "output_type": "stream",
       "stream": "stdout",
       "text": [
        "\n",
        "38"
       ]
      },
      {
       "output_type": "stream",
       "stream": "stdout",
       "text": [
        "\n",
        "39"
       ]
      },
      {
       "output_type": "stream",
       "stream": "stdout",
       "text": [
        "\n",
        "40"
       ]
      },
      {
       "output_type": "stream",
       "stream": "stdout",
       "text": [
        "\n",
        "41"
       ]
      },
      {
       "output_type": "stream",
       "stream": "stdout",
       "text": [
        "\n",
        "42"
       ]
      },
      {
       "output_type": "stream",
       "stream": "stdout",
       "text": [
        "\n",
        "43"
       ]
      },
      {
       "output_type": "stream",
       "stream": "stdout",
       "text": [
        "\n",
        "44"
       ]
      },
      {
       "output_type": "stream",
       "stream": "stdout",
       "text": [
        "\n",
        "45"
       ]
      },
      {
       "output_type": "stream",
       "stream": "stdout",
       "text": [
        "\n",
        "46"
       ]
      },
      {
       "output_type": "stream",
       "stream": "stdout",
       "text": [
        "\n",
        "47"
       ]
      },
      {
       "output_type": "stream",
       "stream": "stdout",
       "text": [
        "\n",
        "48"
       ]
      },
      {
       "output_type": "stream",
       "stream": "stdout",
       "text": [
        "\n",
        "49"
       ]
      },
      {
       "output_type": "stream",
       "stream": "stdout",
       "text": [
        "\n",
        "50"
       ]
      },
      {
       "output_type": "stream",
       "stream": "stdout",
       "text": [
        "\n",
        "51"
       ]
      },
      {
       "output_type": "stream",
       "stream": "stdout",
       "text": [
        "\n",
        "52"
       ]
      },
      {
       "output_type": "stream",
       "stream": "stdout",
       "text": [
        "\n",
        "53"
       ]
      },
      {
       "output_type": "stream",
       "stream": "stdout",
       "text": [
        "\n",
        "54"
       ]
      },
      {
       "output_type": "stream",
       "stream": "stdout",
       "text": [
        "\n",
        "55"
       ]
      },
      {
       "output_type": "stream",
       "stream": "stdout",
       "text": [
        "\n",
        "56"
       ]
      },
      {
       "output_type": "stream",
       "stream": "stdout",
       "text": [
        "\n",
        "57"
       ]
      },
      {
       "output_type": "stream",
       "stream": "stdout",
       "text": [
        "\n",
        "58"
       ]
      },
      {
       "output_type": "stream",
       "stream": "stdout",
       "text": [
        "\n",
        "59"
       ]
      },
      {
       "output_type": "stream",
       "stream": "stdout",
       "text": [
        "\n",
        "60"
       ]
      },
      {
       "output_type": "stream",
       "stream": "stdout",
       "text": [
        "\n"
       ]
      }
     ],
     "prompt_number": 2
    },
    {
     "cell_type": "code",
     "collapsed": false,
     "input": [],
     "language": "python",
     "metadata": {},
     "outputs": []
    }
   ],
   "metadata": {}
  }
 ]
}